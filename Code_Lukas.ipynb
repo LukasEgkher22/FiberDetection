{
 "cells": [
  {
   "cell_type": "markdown",
   "metadata": {},
   "source": [
    "### Import Libraries"
   ]
  },
  {
   "cell_type": "code",
   "execution_count": 1,
   "metadata": {},
   "outputs": [
    {
     "ename": "ModuleNotFoundError",
     "evalue": "No module named 'track_points_helper'",
     "output_type": "error",
     "traceback": [
      "\u001b[0;31m---------------------------------------------------------------------------\u001b[0m",
      "\u001b[0;31mModuleNotFoundError\u001b[0m                       Traceback (most recent call last)",
      "Cell \u001b[0;32mIn[1], line 8\u001b[0m\n\u001b[1;32m      6\u001b[0m \u001b[38;5;28;01mfrom\u001b[39;00m\u001b[38;5;250m \u001b[39m\u001b[38;5;21;01mscipy\u001b[39;00m\u001b[38;5;21;01m.\u001b[39;00m\u001b[38;5;21;01mndimage\u001b[39;00m\u001b[38;5;250m \u001b[39m\u001b[38;5;28;01mimport\u001b[39;00m convolve\n\u001b[1;32m      7\u001b[0m \u001b[38;5;28;01mimport\u001b[39;00m\u001b[38;5;250m \u001b[39m\u001b[38;5;21;01mos\u001b[39;00m\u001b[38;5;241m,\u001b[39m\u001b[38;5;250m \u001b[39m\u001b[38;5;21;01msys\u001b[39;00m\n\u001b[0;32m----> 8\u001b[0m \u001b[38;5;28;01mimport\u001b[39;00m\u001b[38;5;250m \u001b[39m\u001b[38;5;21;01mtrack_points_helper\u001b[39;00m\n\u001b[1;32m      9\u001b[0m \u001b[38;5;66;03m# Adjust the path to your Python version and where the library has been installed\u001b[39;00m\n\u001b[1;32m     10\u001b[0m \u001b[38;5;66;03m# sys.path.append('/zhome/42/8/213460/.local/lib/python3.11/site-packages')\u001b[39;00m\n\u001b[1;32m     11\u001b[0m \u001b[38;5;28;01mfrom\u001b[39;00m\u001b[38;5;250m \u001b[39m\u001b[38;5;21;01mnatsort\u001b[39;00m\u001b[38;5;250m \u001b[39m\u001b[38;5;28;01mimport\u001b[39;00m natsorted\n",
      "\u001b[0;31mModuleNotFoundError\u001b[0m: No module named 'track_points_helper'"
     ]
    }
   ],
   "source": [
    "import numpy as np\n",
    "import tifffile as tiff\n",
    "import matplotlib.pyplot as plt\n",
    "import pickle\n",
    "import matplotlib.pyplot as plt\n",
    "from scipy.ndimage import convolve\n",
    "import os, sys\n",
    "import track_points_helper\n",
    "# Adjust the path to your Python version and where the library has been installed\n",
    "# sys.path.append('/zhome/42/8/213460/.local/lib/python3.11/site-packages')\n",
    "from natsort import natsorted\n"
   ]
  },
  {
   "cell_type": "markdown",
   "metadata": {},
   "source": [
    "### Help functions"
   ]
  },
  {
   "cell_type": "code",
   "execution_count": null,
   "metadata": {},
   "outputs": [],
   "source": [
    "def load_or_create_stack(folder_path, save_path):\n",
    "    \"\"\"Load stack from saved TIFF file or create it from individual TIF files.\"\"\"\n",
    "    \n",
    "    # Update the file extension to .tif\n",
    "    save_path = save_path.replace('.npy', '.tif')\n",
    "    \n",
    "    # Check if saved file already exists\n",
    "    if os.path.exists(save_path):\n",
    "        print(f\"Loading pre-assembled data from {save_path}\")\n",
    "        return tiff.imread(save_path)\n",
    "    \n",
    "    # If not, create the stack from individual files\n",
    "    print(f\"Assembling data from {folder_path}\")\n",
    "    file_names = natsorted([f for f in os.listdir(folder_path) if f.endswith('.tif')])\n",
    "    stack = [tiff.imread(os.path.join(folder_path, f)) for f in file_names]\n",
    "    assembled_stack = np.stack(stack)\n",
    "\n",
    "    # Save the assembled stack as TIFF\n",
    "    print(f\"Saving assembled data to {save_path}\")\n",
    "    tiff.imwrite(save_path, assembled_stack)\n",
    "    print(f\"Saved assembled data to {save_path}\")\n",
    "    \n",
    "    return assembled_stack\n",
    "\n",
    "def normalize_to_uint8(image):\n",
    "    \"\"\"Memory-efficient normalization to uint8 range\"\"\"\n",
    "    # Get min and max\n",
    "    min_val = image.min()\n",
    "    max_val = image.max()\n",
    "    \n",
    "    if max_val == min_val:\n",
    "        return np.zeros_like(image, dtype=np.uint8)\n",
    "    \n",
    "    # Create output array directly as uint8\n",
    "    output = np.empty(image.shape, dtype=np.uint8)\n",
    "    \n",
    "    # Normalize in-place with dtype control\n",
    "    # Use float32 instead of default float64\n",
    "    scale = 255.0 / (max_val - min_val)\n",
    "    np.multiply(image - min_val, scale, out=output, casting='unsafe')\n",
    "    \n",
    "    return output"
   ]
  },
  {
   "cell_type": "markdown",
   "metadata": {},
   "source": [
    "### Data"
   ]
  },
  {
   "cell_type": "markdown",
   "metadata": {},
   "source": [
    "##### Defining paths and loading data"
   ]
  },
  {
   "cell_type": "code",
   "execution_count": null,
   "metadata": {},
   "outputs": [
    {
     "name": "stdout",
     "output_type": "stream",
     "text": [
      "Assembling data from /dtu/3d-imaging-center/courses/02509/groups/members/Lukas_s243430/FiberDetection/data/UD-01_FoV_2_B2_recon_2Dtif\n"
     ]
    },
    {
     "ename": "MemoryError",
     "evalue": "Unable to allocate 1.86 GiB for an array with shape (999, 1013, 988) and data type uint16",
     "output_type": "error",
     "traceback": [
      "\u001b[0;31m---------------------------------------------------------------------------\u001b[0m",
      "\u001b[0;31mMemoryError\u001b[0m                               Traceback (most recent call last)",
      "Cell \u001b[0;32mIn[36], line 10\u001b[0m\n\u001b[1;32m      7\u001b[0m save_path_Mock \u001b[38;5;241m=\u001b[39m os\u001b[38;5;241m.\u001b[39mpath\u001b[38;5;241m.\u001b[39mjoin(os\u001b[38;5;241m.\u001b[39mgetcwd(), \u001b[38;5;124m'\u001b[39m\u001b[38;5;124mdata/assembled_3D_tif_data_Mock.tif\u001b[39m\u001b[38;5;124m'\u001b[39m)\n\u001b[1;32m      9\u001b[0m \u001b[38;5;66;03m# Load stacks\u001b[39;00m\n\u001b[0;32m---> 10\u001b[0m tif_data_UD \u001b[38;5;241m=\u001b[39m \u001b[43mload_or_create_stack\u001b[49m\u001b[43m(\u001b[49m\u001b[43mpath_UD\u001b[49m\u001b[43m,\u001b[49m\u001b[43m \u001b[49m\u001b[43msave_path_UD\u001b[49m\u001b[43m)\u001b[49m\n\u001b[1;32m     11\u001b[0m tif_data_Mock \u001b[38;5;241m=\u001b[39m load_or_create_stack(path_Mock, save_path_Mock)\n",
      "Cell \u001b[0;32mIn[28], line 16\u001b[0m, in \u001b[0;36mload_or_create_stack\u001b[0;34m(folder_path, save_path)\u001b[0m\n\u001b[1;32m     14\u001b[0m file_names \u001b[38;5;241m=\u001b[39m natsorted([f \u001b[38;5;28;01mfor\u001b[39;00m f \u001b[38;5;129;01min\u001b[39;00m os\u001b[38;5;241m.\u001b[39mlistdir(folder_path) \u001b[38;5;28;01mif\u001b[39;00m f\u001b[38;5;241m.\u001b[39mendswith(\u001b[38;5;124m'\u001b[39m\u001b[38;5;124m.tif\u001b[39m\u001b[38;5;124m'\u001b[39m)])\n\u001b[1;32m     15\u001b[0m stack \u001b[38;5;241m=\u001b[39m [tiff\u001b[38;5;241m.\u001b[39mimread(os\u001b[38;5;241m.\u001b[39mpath\u001b[38;5;241m.\u001b[39mjoin(folder_path, f)) \u001b[38;5;28;01mfor\u001b[39;00m f \u001b[38;5;129;01min\u001b[39;00m file_names]\n\u001b[0;32m---> 16\u001b[0m assembled_stack \u001b[38;5;241m=\u001b[39m \u001b[43mnp\u001b[49m\u001b[38;5;241;43m.\u001b[39;49m\u001b[43mstack\u001b[49m\u001b[43m(\u001b[49m\u001b[43mstack\u001b[49m\u001b[43m)\u001b[49m\n\u001b[1;32m     18\u001b[0m \u001b[38;5;66;03m# Save the assembled stack as TIFF\u001b[39;00m\n\u001b[1;32m     19\u001b[0m \u001b[38;5;28mprint\u001b[39m(\u001b[38;5;124mf\u001b[39m\u001b[38;5;124m\"\u001b[39m\u001b[38;5;124mSaving assembled data to \u001b[39m\u001b[38;5;132;01m{\u001b[39;00msave_path\u001b[38;5;132;01m}\u001b[39;00m\u001b[38;5;124m\"\u001b[39m)\n",
      "File \u001b[0;32m/dtu/3d-imaging-center/courses/conda/miniconda3/envs/env-02509/lib/python3.11/site-packages/numpy/core/shape_base.py:456\u001b[0m, in \u001b[0;36mstack\u001b[0;34m(arrays, axis, out, dtype, casting)\u001b[0m\n\u001b[1;32m    454\u001b[0m sl \u001b[38;5;241m=\u001b[39m (\u001b[38;5;28mslice\u001b[39m(\u001b[38;5;28;01mNone\u001b[39;00m),) \u001b[38;5;241m*\u001b[39m axis \u001b[38;5;241m+\u001b[39m (_nx\u001b[38;5;241m.\u001b[39mnewaxis,)\n\u001b[1;32m    455\u001b[0m expanded_arrays \u001b[38;5;241m=\u001b[39m [arr[sl] \u001b[38;5;28;01mfor\u001b[39;00m arr \u001b[38;5;129;01min\u001b[39;00m arrays]\n\u001b[0;32m--> 456\u001b[0m \u001b[38;5;28;01mreturn\u001b[39;00m \u001b[43m_nx\u001b[49m\u001b[38;5;241;43m.\u001b[39;49m\u001b[43mconcatenate\u001b[49m\u001b[43m(\u001b[49m\u001b[43mexpanded_arrays\u001b[49m\u001b[43m,\u001b[49m\u001b[43m \u001b[49m\u001b[43maxis\u001b[49m\u001b[38;5;241;43m=\u001b[39;49m\u001b[43maxis\u001b[49m\u001b[43m,\u001b[49m\u001b[43m \u001b[49m\u001b[43mout\u001b[49m\u001b[38;5;241;43m=\u001b[39;49m\u001b[43mout\u001b[49m\u001b[43m,\u001b[49m\n\u001b[1;32m    457\u001b[0m \u001b[43m                       \u001b[49m\u001b[43mdtype\u001b[49m\u001b[38;5;241;43m=\u001b[39;49m\u001b[43mdtype\u001b[49m\u001b[43m,\u001b[49m\u001b[43m \u001b[49m\u001b[43mcasting\u001b[49m\u001b[38;5;241;43m=\u001b[39;49m\u001b[43mcasting\u001b[49m\u001b[43m)\u001b[49m\n",
      "\u001b[0;31mMemoryError\u001b[0m: Unable to allocate 1.86 GiB for an array with shape (999, 1013, 988) and data type uint16"
     ]
    }
   ],
   "source": [
    "# Paths to extracted slices\n",
    "path_UD = os.path.join(os.getcwd(), 'data/UD-01_FoV_2_B2_recon_2Dtif')\n",
    "path_Mock = os.path.join(os.getcwd(), 'data/Mock-01_FoV_2_B2_recon_2Dtif')\n",
    "\n",
    "# Paths to save the assembled stacks\n",
    "save_path_UD = os.path.join(os.getcwd(), 'data/assembled_3D_tif_data_UD.tif')\n",
    "save_path_Mock = os.path.join(os.getcwd(), 'data/assembled_3D_tif_data_Mock.tif')\n",
    "\n",
    "# Load stacks\n",
    "tif_data_UD = load_or_create_stack(path_UD, save_path_UD)\n",
    "tif_data_Mock = load_or_create_stack(path_Mock, save_path_Mock)\n"
   ]
  },
  {
   "cell_type": "markdown",
   "metadata": {},
   "source": [
    "##### Data investigation"
   ]
  },
  {
   "cell_type": "code",
   "execution_count": null,
   "metadata": {},
   "outputs": [],
   "source": [
    "# Check shapes\n",
    "print(\"Loaded UD stack shape:\", tif_data_UD.shape)\n",
    "print(\"Loaded Mock stack shape:\", tif_data_Mock.shape)\n",
    "\n",
    "# Visualize first slice\n",
    "plt.figure(figsize=(10, 5))\n",
    "plt.subplot(1, 2, 1)\n",
    "plt.imshow(tif_data_UD[0], cmap='gray')\n",
    "plt.title('UD Image')\n",
    "plt.axis('off')\n",
    "plt.subplot(1, 2, 2)\n",
    "plt.imshow(tif_data_Mock[0], cmap='gray')\n",
    "plt.title('Mock Image')\n",
    "plt.axis('off')\n",
    "plt.tight_layout()\n",
    "plt.show()\n",
    "\n",
    "# Create normalized versions\n",
    "tif_data_UD_norm = normalize_to_uint8(tif_data_UD)\n",
    "tif_data_Mock_norm = normalize_to_uint8(tif_data_Mock)\n",
    "\n",
    "print(\"Normalized UD stack shape:\", tif_data_UD_norm.shape)\n",
    "print(\"Normalized Mock stack shape:\", tif_data_Mock_norm.shape)"
   ]
  },
  {
   "cell_type": "markdown",
   "metadata": {},
   "source": [
    "##### Data visualizations"
   ]
  },
  {
   "cell_type": "code",
   "execution_count": null,
   "metadata": {},
   "outputs": [
    {
     "data": {
      "image/png": "[encoded data removed]",
      "text/plain": [
       "<Figure size 1200x500 with 2 Axes>"
      ]
     },
     "metadata": {},
     "output_type": "display_data"
    },
    {
     "name": "stdout",
     "output_type": "stream",
     "text": [
      "UD data: 751783458 non-zero pixels (75.19% of total)\n",
      "Mock data: 752478756 non-zero pixels (75.26% of total)\n"
     ]
    }
   ],
   "source": [
    "# Create histograms excluding zeros\n",
    "plt.figure(figsize=(12, 5))\n",
    "\n",
    "# Filter out zeros for UD data\n",
    "nonzero_UD = tif_data_UD_norm.ravel()[tif_data_UD_norm.ravel() > 0]\n",
    "plt.subplot(1, 2, 1)\n",
    "plt.hist(nonzero_UD, bins=256, range=(0, 255))\n",
    "plt.title(\"Histogram of Image UD (Zeros Excluded)\")\n",
    "plt.xlabel(\"Intensity\")\n",
    "plt.ylabel(\"Frequency\")\n",
    "\n",
    "# Filter out zeros for Mock data\n",
    "nonzero_Mock = tif_data_Mock_norm.ravel()[tif_data_Mock_norm.ravel() > 0]\n",
    "plt.subplot(1, 2, 2)\n",
    "plt.hist(nonzero_Mock, bins=256, range=(0, 255))\n",
    "plt.title(\"Histogram of Image Mock (Zeros Excluded)\")\n",
    "plt.xlabel(\"Intensity\")\n",
    "plt.ylabel(\"Frequency\")\n",
    "\n",
    "plt.tight_layout()\n",
    "plt.show()\n",
    "\n",
    "# Print statistics about non-zero values\n",
    "print(f\"UD data: {len(nonzero_UD)} non-zero pixels ({len(nonzero_UD)/tif_data_UD_norm.size*100:.2f}% of total)\")\n",
    "print(f\"Mock data: {len(nonzero_Mock)} non-zero pixels ({len(nonzero_Mock)/tif_data_Mock_norm.size*100:.2f}% of total)\")"
   ]
  }
 ],
 "metadata": {
  "kernelspec": {
   "display_name": "env-02509",
   "language": "python",
   "name": "python3"
  },
  "language_info": {
   "codemirror_mode": {
    "name": "ipython",
    "version": 3
   },
   "file_extension": ".py",
   "mimetype": "text/x-python",
   "name": "python",
   "nbconvert_exporter": "python",
   "pygments_lexer": "ipython3",
   "version": "3.11.6"
  }
 },
 "nbformat": 4,
 "nbformat_minor": 2
}
